{
 "cells": [
  {
   "cell_type": "code",
   "execution_count": 1,
   "id": "capital-explorer",
   "metadata": {},
   "outputs": [],
   "source": [
    "from jinja2 import Environment, FileSystemLoader"
   ]
  },
  {
   "cell_type": "markdown",
   "id": "confidential-powder",
   "metadata": {},
   "source": [
    "#### Idée de base template : "
   ]
  },
  {
   "cell_type": "markdown",
   "id": "insured-tractor",
   "metadata": {},
   "source": [
    "[Mock_up](mock_up.pdf)"
   ]
  },
  {
   "cell_type": "code",
   "execution_count": 4,
   "id": "figured-preparation",
   "metadata": {},
   "outputs": [],
   "source": [
    "from jinja2 import Environment, FileSystemLoader\n",
    "import os\n",
    " \n",
    "root = os.path.dirname(os.path.abspath(\"__file__\"))\n",
    "templates_dir = os.path.join(root, 'Jinja2/templates')\n",
    "env = Environment( loader = FileSystemLoader(templates_dir) )\n",
    "template = env.get_template('index.html')\n",
    " \n",
    " \n",
    "filename = os.path.join(root, 'Jinja2/html', 'index.html')\n",
    "with open(filename, 'w') as fh:\n",
    "    fh.write(template.render(\n",
    "        h1 = \"DashBoard Exacdatamente\",\n",
    "        show_one = True,\n",
    "        show_two = True,\n",
    "        show_three = True,\n",
    "        show_four = True,\n",
    "        show_five = True,\n",
    "        show_six = True,\n",
    "    ))"
   ]
  },
  {
   "cell_type": "code",
   "execution_count": null,
   "id": "medium-angle",
   "metadata": {},
   "outputs": [],
   "source": [
    " "
   ]
  },
  {
   "cell_type": "code",
   "execution_count": null,
   "id": "foster-fundamentals",
   "metadata": {},
   "outputs": [],
   "source": []
  }
 ],
 "metadata": {
  "kernelspec": {
   "display_name": "Python 3",
   "language": "python",
   "name": "python3"
  },
  "language_info": {
   "codemirror_mode": {
    "name": "ipython",
    "version": 3
   },
   "file_extension": ".py",
   "mimetype": "text/x-python",
   "name": "python",
   "nbconvert_exporter": "python",
   "pygments_lexer": "ipython3",
   "version": "3.8.6"
  }
 },
 "nbformat": 4,
 "nbformat_minor": 5
}
