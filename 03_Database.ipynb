{
 "cells": [
  {
   "cell_type": "markdown",
   "id": "opposed-thumbnail",
   "metadata": {},
   "source": [
    "# Database"
   ]
  },
  {
   "cell_type": "markdown",
   "id": "laden-sudan",
   "metadata": {},
   "source": [
    "-----------------------------"
   ]
  },
  {
   "cell_type": "markdown",
   "id": "whole-smart",
   "metadata": {},
   "source": [
    "### Connexion à postgres pour la création de la database exacdatamente"
   ]
  },
  {
   "cell_type": "code",
   "execution_count": 1,
   "id": "negative-treatment",
   "metadata": {},
   "outputs": [],
   "source": [
    "\"\"\"\n",
    "Importation des librairies os et psycopg2\n",
    "qui sera utiliser tout au long de la création \n",
    "de la database, table et insertion des données\n",
    "\"\"\"\n",
    "\n",
    "import os\n",
    "import psycopg2"
   ]
  },
  {
   "cell_type": "code",
   "execution_count": 2,
   "id": "exotic-group",
   "metadata": {},
   "outputs": [
    {
     "name": "stdout",
     "output_type": "stream",
     "text": [
      "La DataBase à été créée avec succès !\n"
     ]
    }
   ],
   "source": [
    "\"\"\"\n",
    "Connexion dans un premier temps à postgres\n",
    "pour initialiser notre database exacdatamenteb\n",
    "\"\"\"\n",
    "\n",
    "\n",
    "\n",
    "utilisateur = \"postgres\"\n",
    "\n",
    "mot_passe = os.environ.get('pg_psw')\n",
    "\n",
    "base_de_donnees = \"postgres\"\n",
    "\n",
    "\n",
    "\n",
    "try:\n",
    "    \n",
    "    # création de l'objet conn\n",
    "\n",
    "    conn = psycopg2.connect(dbname= base_de_donnees, user=utilisateur, password=mot_passe, host=\"localhost\", port= 5432)\n",
    "\n",
    "    conn.set_session(autocommit=True)   # on force\n",
    "\n",
    "    # initialisation du cursor\n",
    "\n",
    "    cursor = conn.cursor()\n",
    "\n",
    "    # cursor.execute permet d'exécuter une commande 'sql'\n",
    "\n",
    "    cursor.execute(\"CREATE DATABASE exacdatamente\")\n",
    "\n",
    "    print(\"La DataBase à été créée avec succès !\")\n",
    "\n",
    "        \n",
    "except psycopg2.Error as e:\n",
    "    \n",
    "    print(\"Problème lors de la connection à la base de donnée\")\n",
    "\n",
    "    print(e)\n",
    "\n",
    "   \n",
    "    \n",
    "finally:\n",
    "        \n",
    "    # ferme le curseur et devient inutilisable\n",
    "\n",
    "    cursor.close\n",
    "\n",
    "    # ferme la connexion à database\n",
    "\n",
    "    conn.close"
   ]
  },
  {
   "cell_type": "markdown",
   "id": "impaired-delaware",
   "metadata": {},
   "source": [
    "### Connexion à la database exacdatamente"
   ]
  },
  {
   "cell_type": "code",
   "execution_count": 3,
   "id": "fifteen-sister",
   "metadata": {},
   "outputs": [
    {
     "name": "stdout",
     "output_type": "stream",
     "text": [
      "La connexion à la DataBase exacdatamente est un succès !\n"
     ]
    }
   ],
   "source": [
    "\n",
    "base_de_donnees = \"exacdatamente\"\n",
    "\n",
    "utilisateur = \"postgres\"\n",
    "\n",
    "mot_passe = os.environ.get('pg_psw')\n",
    "\n",
    "try:\n",
    "    # création de l'objet conn via la fonction connect de psycopg2\n",
    "\n",
    "    conn = psycopg2.connect(dbname= base_de_donnees, user=utilisateur, password = mot_passe, host=\"localhost\", port= 5432)\n",
    "\n",
    "    # on force le commit\n",
    "\n",
    "    conn.set_session(autocommit=True)   \n",
    "\n",
    "\n",
    "    print(\"La connexion à la DataBase exacdatamente est un succès !\")\n",
    "\n",
    "except psycopg2.Error as e:\n",
    "\n",
    "    print(\"Problème lors de la connection à la base de donnée\")\n",
    "\n",
    "    print(e)"
   ]
  },
  {
   "cell_type": "markdown",
   "id": "arctic-hepatitis",
   "metadata": {},
   "source": [
    "### Insertion de données "
   ]
  },
  {
   "cell_type": "code",
   "execution_count": 7,
   "id": "different-spank",
   "metadata": {},
   "outputs": [],
   "source": [
    "import csv\n",
    "\n",
    "def database_table(table_creation,insert_data):\n",
    "    \n",
    "    cursor = conn.cursor()\n",
    "        \n",
    "    cursor.execute(table_creation)\n",
    "            \n",
    "    #insert each rows in the table\n",
    "\n",
    "    cursor.execute(insert_data)     \n",
    "\n",
    "    #Save and commit the change.\n",
    "\n",
    "    conn.commit()        \n",
    "\n",
    "    #close cursor & connetion\n",
    "\n",
    "    cursor.close()"
   ]
  },
  {
   "cell_type": "markdown",
   "id": "oriented-future",
   "metadata": {},
   "source": [
    "# Product data insertion"
   ]
  },
  {
   "cell_type": "code",
   "execution_count": 8,
   "id": "charged-minimum",
   "metadata": {},
   "outputs": [],
   "source": [
    "#filename = 'BDD\\\\Final_csv\\\\product_data.csv'\n",
    "\n",
    "table_creation='''create table if not exists product_data(\n",
    "                                                        id text primary key,\n",
    "                                                        name text,\n",
    "                                                        primaryCategories text,\n",
    "                                                        categories text,\n",
    "                                                        dateAdded text,\n",
    "                                                        dateUpdated text,\n",
    "                                                        colors text,\n",
    "                                                        imageURLs text,\n",
    "                                                        sourceURLs text)'''\n",
    "\n",
    "insert_data='''\n",
    "COPY product_data(id, name, primaryCategories, categories, dateAdded, dateUpdated, colors, imageURLs, sourceURLs) \n",
    "FROM 'C:\\Stage\\exacdatamente\\BDD\\Final_csv\\product_data.csv' \n",
    "WITH CSV HEADER \n",
    "ENCODING 'utf8' \n",
    "DELIMITER ',' \n",
    "QUOTE '\"'; \n",
    "'''\n",
    "\n",
    "database_table(table_creation,insert_data)"
   ]
  },
  {
   "cell_type": "markdown",
   "id": "considered-nancy",
   "metadata": {},
   "source": [
    "# Manufacturer insertion"
   ]
  },
  {
   "cell_type": "code",
   "execution_count": 11,
   "id": "tribal-ridge",
   "metadata": {},
   "outputs": [],
   "source": [
    "#filename = 'BDD/Final_csv/manufacturer.csv'\n",
    "\n",
    "table_creation='''create table if not exists manufacturer(manufacturer_id SERIAL primary key,\n",
    "                                                          manufacturerNumber text,\n",
    "                                                          id text,\n",
    "                                                          manufacturer text,\n",
    "                                                          brand text,\n",
    "                                                          FOREIGN KEY (id) REFERENCES product_data(id))'''\n",
    "\n",
    "insert_data=''' \n",
    "COPY manufacturer(manufacturerNumber, id, manufacturer, brand)\n",
    "FROM 'C:\\Stage\\exacdatamente\\BDD\\Final_csv\\manufacturer.csv' \n",
    "WITH CSV HEADER \n",
    "ENCODING 'utf8' \n",
    "DELIMITER ',' \n",
    "QUOTE '\"'; \n",
    "'''\n",
    "database_table(table_creation,insert_data)"
   ]
  },
  {
   "cell_type": "markdown",
   "id": "sunset-punishment",
   "metadata": {},
   "source": [
    "# Logistics insertion"
   ]
  },
  {
   "cell_type": "code",
   "execution_count": 13,
   "id": "retained-southeast",
   "metadata": {},
   "outputs": [],
   "source": [
    "filename = 'BDD/Final_csv/logistics.csv'\n",
    "\n",
    "table_creation='''create table if not exists logistics(logistics_id SERIAL primary key,\n",
    "                                                       id text,\n",
    "                                                       asins text,\n",
    "                                                       ean text,\n",
    "                                                       upc text,\n",
    "                                                       dimension text,\n",
    "                                                       weight text,\n",
    "                                                       keys text,\n",
    "                                                       FOREIGN KEY (id) REFERENCES product_data(id))'''\n",
    "\n",
    "\n",
    "insert_data2 = '''\n",
    "INSERT INTO logistics(id, asins, ean, upc, dimension, weight, keys)\n",
    "VALUES(%s, %s, %s, %s, %s, %s, %s)\n",
    "'''\n",
    "insert_data='''\n",
    "COPY logistics(id, asins, ean, upc, dimension, weight, keys)\n",
    "FROM 'C:\\Stage\\exacdatamente\\BDD\\Final_csv\\logistics.csv' \n",
    "WITH CSV HEADER \n",
    "ENCODING 'utf8' \n",
    "DELIMITER ',' \n",
    "QUOTE '\"'; \n",
    "'''\n",
    "database_table(table_creation,insert_data)"
   ]
  },
  {
   "cell_type": "markdown",
   "id": "involved-religion",
   "metadata": {},
   "source": [
    "# Prices insertion"
   ]
  },
  {
   "cell_type": "code",
   "execution_count": 15,
   "id": "useful-brighton",
   "metadata": {},
   "outputs": [],
   "source": [
    "filename = 'BDD/Final_csv/prices.csv'\n",
    "\n",
    "table_creation='''create table if not exists prices(prices_id SERIAL primary key,\n",
    "                                                    id text,\n",
    "                                                    prices_amountMax real,\n",
    "                                                    prices_amountMin real,\n",
    "                                                    prices_availability text,\n",
    "                                                    prices_condition text,\n",
    "                                                    prices_currency text,\n",
    "                                                    prices_dateSeen text,\n",
    "                                                    prices_isSale bool,\n",
    "                                                    prices_merchant text,\n",
    "                                                    prices_shipping text,\n",
    "                                                    prices_sourceURLs text,\n",
    "                                                    FOREIGN KEY (id) REFERENCES product_data(id))'''\n",
    "\n",
    "insert_data='''\n",
    "COPY prices (id, prices_amountMax, prices_amountMin, prices_availability, prices_condition, prices_currency, prices_dateSeen, prices_isSale, prices_merchant, prices_shipping, prices_sourceURLs) \n",
    "FROM 'C:\\\\Stage\\\\exacdatamente\\\\BDD\\Final_csv\\\\prices.csv' \n",
    "WITH CSV HEADER \n",
    "ENCODING 'utf8' \n",
    "DELIMITER ',' \n",
    "QUOTE '\"'; \n",
    "'''\n",
    "\n",
    "database_table(table_creation,insert_data)"
   ]
  },
  {
   "cell_type": "markdown",
   "id": "ahead-register",
   "metadata": {},
   "source": [
    "# Reviews insertion "
   ]
  },
  {
   "cell_type": "code",
   "execution_count": 16,
   "id": "exclusive-exchange",
   "metadata": {},
   "outputs": [],
   "source": [
    "filename = 'BDD/Final_csv/reviews.csv'\n",
    "\n",
    "table_creation='''create table if not exists reviews(reviews_id SERIAL primary key,\n",
    "                                                     id text,\n",
    "                                                     reviews_date text,\n",
    "                                                     reviews_dateSeen text,\n",
    "                                                     reviews_doRecommend text,\n",
    "                                                     reviews_numHelpful real,\n",
    "                                                     reviews_rating real,\n",
    "                                                     reviews_sourceURLs text,\n",
    "                                                     reviews_text text,\n",
    "                                                     reviews_title text,\n",
    "                                                     reviews_username text,\n",
    "                                                     FOREIGN KEY (id) REFERENCES product_data(id))'''\n",
    "\n",
    "insert_data='''\n",
    "COPY reviews(id,reviews_date, reviews_dateSeen, reviews_doRecommend, reviews_numHelpful, reviews_rating, reviews_sourceURLs, reviews_text,reviews_title,reviews_username)\n",
    "FROM 'C:\\\\Stage\\\\exacdatamente\\\\BDD\\Final_csv\\\\reviews.csv' \n",
    "WITH CSV HEADER \n",
    "ENCODING 'utf8' \n",
    "DELIMITER ',' \n",
    "QUOTE '\"';\n",
    "'''\n",
    "\n",
    "database_table(table_creation,insert_data)"
   ]
  },
  {
   "cell_type": "code",
   "execution_count": null,
   "id": "sudden-collapse",
   "metadata": {},
   "outputs": [],
   "source": [
    "conn.close()"
   ]
  },
  {
   "cell_type": "markdown",
   "id": "introductory-lexington",
   "metadata": {},
   "source": [
    "# Update Database"
   ]
  },
  {
   "cell_type": "code",
   "execution_count": null,
   "id": "pediatric-processing",
   "metadata": {},
   "outputs": [],
   "source": []
  }
 ],
 "metadata": {
  "kernelspec": {
   "display_name": "Python 3",
   "language": "python",
   "name": "python3"
  },
  "language_info": {
   "codemirror_mode": {
    "name": "ipython",
    "version": 3
   },
   "file_extension": ".py",
   "mimetype": "text/x-python",
   "name": "python",
   "nbconvert_exporter": "python",
   "pygments_lexer": "ipython3",
   "version": "3.8.6"
  }
 },
 "nbformat": 4,
 "nbformat_minor": 5
}
