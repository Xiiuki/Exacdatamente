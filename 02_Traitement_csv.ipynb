{
 "cells": [
  {
   "cell_type": "code",
   "execution_count": 1,
   "id": "conscious-leisure",
   "metadata": {},
   "outputs": [],
   "source": [
    "\"\"\"\n",
    "Importation de la librairie pandas qui \n",
    "sera utilisée tout au long des scripts\n",
    "\"\"\"\n",
    "\n",
    "import pandas as pd"
   ]
  },
  {
   "cell_type": "code",
   "execution_count": null,
   "id": "further-intent",
   "metadata": {},
   "outputs": [],
   "source": []
  },
  {
   "cell_type": "code",
   "execution_count": 2,
   "id": "residential-advertiser",
   "metadata": {},
   "outputs": [],
   "source": [
    "\"\"\"\n",
    "On définie deux variables, chacune vont \n",
    "lire les csv qui leur sont allouées grâce \n",
    "à la fonction read_csv de pandas\n",
    "\"\"\"\n",
    "\n",
    "df1 = pd.read_csv('BDD/Brut_csv/DatafinitiElectronicsProductData.csv')\n",
    "\n",
    "df2 = pd.read_csv('BDD/Brut_csv/DatafinitiElectronicsProductsPricingData.csv')"
   ]
  },
  {
   "cell_type": "code",
   "execution_count": 3,
   "id": "further-accreditation",
   "metadata": {},
   "outputs": [],
   "source": [
    "\"\"\"\n",
    "Une nouvelle variable df3 qui est\n",
    "égale à la concaténation de df1 et df2\n",
    "pour créer un super csv grâce à \n",
    ".append de pandas \n",
    "\"\"\"\n",
    "\n",
    "df3 = df1.append(df2, ignore_index=True, sort=False)"
   ]
  },
  {
   "cell_type": "code",
   "execution_count": 4,
   "id": "industrial-afternoon",
   "metadata": {},
   "outputs": [
    {
     "name": "stdout",
     "output_type": "stream",
     "text": [
      "<class 'pandas.core.frame.DataFrame'>\n",
      "RangeIndex: 14548 entries, 0 to 14547\n",
      "Data columns (total 42 columns):\n",
      " #   Column               Non-Null Count  Dtype  \n",
      "---  ------               --------------  -----  \n",
      " 0   id                   14548 non-null  object \n",
      " 1   asins                14548 non-null  object \n",
      " 2   brand                14548 non-null  object \n",
      " 3   categories           14548 non-null  object \n",
      " 4   colors               5280 non-null   object \n",
      " 5   dateAdded            14548 non-null  object \n",
      " 6   dateUpdated          14548 non-null  object \n",
      " 7   dimension            6090 non-null   object \n",
      " 8   ean                  4494 non-null   object \n",
      " 9   imageURLs            14548 non-null  object \n",
      " 10  keys                 14548 non-null  object \n",
      " 11  manufacturer         7867 non-null   object \n",
      " 12  manufacturerNumber   14548 non-null  object \n",
      " 13  name                 14548 non-null  object \n",
      " 14  primaryCategories    14548 non-null  object \n",
      " 15  reviews.date         7238 non-null   object \n",
      " 16  reviews.dateSeen     7299 non-null   object \n",
      " 17  reviews.doRecommend  5908 non-null   object \n",
      " 18  reviews.numHelpful   5813 non-null   float64\n",
      " 19  reviews.rating       7135 non-null   float64\n",
      " 20  reviews.sourceURLs   7299 non-null   object \n",
      " 21  reviews.text         7294 non-null   object \n",
      " 22  reviews.title        7295 non-null   object \n",
      " 23  reviews.username     7299 non-null   object \n",
      " 24  sourceURLs           14548 non-null  object \n",
      " 25  upc                  14548 non-null  object \n",
      " 26  weight               14548 non-null  object \n",
      " 27  prices.amountMax     7249 non-null   float64\n",
      " 28  prices.amountMin     7249 non-null   float64\n",
      " 29  prices.availability  7249 non-null   object \n",
      " 30  prices.condition     7249 non-null   object \n",
      " 31  prices.currency      7249 non-null   object \n",
      " 32  prices.dateSeen      7249 non-null   object \n",
      " 33  prices.isSale        7249 non-null   object \n",
      " 34  prices.merchant      7249 non-null   object \n",
      " 35  prices.shipping      4277 non-null   object \n",
      " 36  prices.sourceURLs    7249 non-null   object \n",
      " 37  Unnamed: 26          39 non-null     object \n",
      " 38  Unnamed: 27          18 non-null     object \n",
      " 39  Unnamed: 28          6 non-null      float64\n",
      " 40  Unnamed: 29          12 non-null     object \n",
      " 41  Unnamed: 30          6 non-null      object \n",
      "dtypes: float64(5), object(37)\n",
      "memory usage: 4.7+ MB\n"
     ]
    }
   ],
   "source": [
    "df3.info()"
   ]
  },
  {
   "cell_type": "code",
   "execution_count": 5,
   "id": "blank-selling",
   "metadata": {
    "tags": []
   },
   "outputs": [
    {
     "data": {
      "text/plain": [
       "Index(['id', 'asins', 'brand', 'categories', 'colors', 'dateAdded',\n",
       "       'dateUpdated', 'dimension', 'ean', 'imageURLs', 'keys', 'manufacturer',\n",
       "       'manufacturerNumber', 'name', 'primaryCategories', 'reviews.date',\n",
       "       'reviews.dateSeen', 'reviews.doRecommend', 'reviews.numHelpful',\n",
       "       'reviews.rating', 'reviews.sourceURLs', 'reviews.text', 'reviews.title',\n",
       "       'reviews.username', 'sourceURLs', 'upc', 'weight', 'prices.amountMax',\n",
       "       'prices.amountMin', 'prices.availability', 'prices.condition',\n",
       "       'prices.currency', 'prices.dateSeen', 'prices.isSale',\n",
       "       'prices.merchant', 'prices.shipping', 'prices.sourceURLs',\n",
       "       'Unnamed: 26', 'Unnamed: 27', 'Unnamed: 28', 'Unnamed: 29',\n",
       "       'Unnamed: 30'],\n",
       "      dtype='object')"
      ]
     },
     "execution_count": 5,
     "metadata": {},
     "output_type": "execute_result"
    }
   ],
   "source": [
    "df3.columns"
   ]
  },
  {
   "cell_type": "markdown",
   "id": "saved-operation",
   "metadata": {},
   "source": [
    "_________________"
   ]
  },
  {
   "cell_type": "markdown",
   "id": "competitive-qatar",
   "metadata": {},
   "source": [
    "# Création des csv finale pour la database "
   ]
  },
  {
   "cell_type": "code",
   "execution_count": 6,
   "id": "molecular-baghdad",
   "metadata": {},
   "outputs": [
    {
     "data": {
      "text/plain": [
       "Index(['id', 'asins', 'brand', 'categories', 'colors', 'dateAdded',\n",
       "       'dateUpdated', 'dimension', 'ean', 'imageURLs', 'keys', 'manufacturer',\n",
       "       'manufacturerNumber', 'name', 'primaryCategories', 'reviews.date',\n",
       "       'reviews.dateSeen', 'reviews.doRecommend', 'reviews.numHelpful',\n",
       "       'reviews.rating', 'reviews.sourceURLs', 'reviews.text', 'reviews.title',\n",
       "       'reviews.username', 'sourceURLs', 'upc', 'weight', 'prices.amountMax',\n",
       "       'prices.amountMin', 'prices.availability', 'prices.condition',\n",
       "       'prices.currency', 'prices.dateSeen', 'prices.isSale',\n",
       "       'prices.merchant', 'prices.shipping', 'prices.sourceURLs',\n",
       "       'Unnamed: 26', 'Unnamed: 27', 'Unnamed: 28', 'Unnamed: 29',\n",
       "       'Unnamed: 30'],\n",
       "      dtype='object')"
      ]
     },
     "execution_count": 6,
     "metadata": {},
     "output_type": "execute_result"
    }
   ],
   "source": [
    "df3.columns"
   ]
  },
  {
   "cell_type": "code",
   "execution_count": 7,
   "id": "frozen-hartford",
   "metadata": {},
   "outputs": [
    {
     "name": "stderr",
     "output_type": "stream",
     "text": [
      "<ipython-input-7-0a678820d646>:1: FutureWarning: The default value of regex will change from True to False in a future version. In addition, single character regular expressions will*not* be treated as literal strings when regex=True.\n",
      "  df3.columns = df3.columns.str.replace(\".\", \"_\")\n"
     ]
    }
   ],
   "source": [
    "df3.columns = df3.columns.str.replace(\".\", \"_\")"
   ]
  },
  {
   "cell_type": "code",
   "execution_count": 8,
   "id": "removed-swiss",
   "metadata": {},
   "outputs": [
    {
     "data": {
      "text/plain": [
       "Index(['id', 'asins', 'brand', 'categories', 'colors', 'dateAdded',\n",
       "       'dateUpdated', 'dimension', 'ean', 'imageURLs', 'keys', 'manufacturer',\n",
       "       'manufacturerNumber', 'name', 'primaryCategories', 'reviews_date',\n",
       "       'reviews_dateSeen', 'reviews_doRecommend', 'reviews_numHelpful',\n",
       "       'reviews_rating', 'reviews_sourceURLs', 'reviews_text', 'reviews_title',\n",
       "       'reviews_username', 'sourceURLs', 'upc', 'weight', 'prices_amountMax',\n",
       "       'prices_amountMin', 'prices_availability', 'prices_condition',\n",
       "       'prices_currency', 'prices_dateSeen', 'prices_isSale',\n",
       "       'prices_merchant', 'prices_shipping', 'prices_sourceURLs',\n",
       "       'Unnamed: 26', 'Unnamed: 27', 'Unnamed: 28', 'Unnamed: 29',\n",
       "       'Unnamed: 30'],\n",
       "      dtype='object')"
      ]
     },
     "execution_count": 8,
     "metadata": {},
     "output_type": "execute_result"
    }
   ],
   "source": [
    "df3.columns"
   ]
  },
  {
   "cell_type": "markdown",
   "id": "aggregate-trinity",
   "metadata": {},
   "source": [
    "## Table Product_data :"
   ]
  },
  {
   "cell_type": "code",
   "execution_count": 9,
   "id": "diagnostic-scottish",
   "metadata": {},
   "outputs": [],
   "source": [
    "product_data = df3[['id', 'name', 'primaryCategories', 'categories', 'dateAdded', 'dateUpdated', 'colors', 'imageURLs', 'sourceURLs']]"
   ]
  },
  {
   "cell_type": "code",
   "execution_count": 10,
   "id": "bulgarian-criterion",
   "metadata": {},
   "outputs": [
    {
     "data": {
      "text/plain": [
       "id                      0\n",
       "name                    0\n",
       "primaryCategories       0\n",
       "categories              0\n",
       "dateAdded               0\n",
       "dateUpdated             0\n",
       "colors               9268\n",
       "imageURLs               0\n",
       "sourceURLs              0\n",
       "dtype: int64"
      ]
     },
     "execution_count": 10,
     "metadata": {},
     "output_type": "execute_result"
    }
   ],
   "source": [
    "product_data.isnull().sum()"
   ]
  },
  {
   "cell_type": "code",
   "execution_count": 11,
   "id": "deadly-colors",
   "metadata": {},
   "outputs": [],
   "source": [
    "product_data = product_data.drop_duplicates(\"id\")"
   ]
  },
  {
   "cell_type": "code",
   "execution_count": 12,
   "id": "blind-pharmaceutical",
   "metadata": {},
   "outputs": [
    {
     "name": "stdout",
     "output_type": "stream",
     "text": [
      "<class 'pandas.core.frame.DataFrame'>\n",
      "Int64Index: 839 entries, 0 to 14537\n",
      "Data columns (total 9 columns):\n",
      " #   Column             Non-Null Count  Dtype \n",
      "---  ------             --------------  ----- \n",
      " 0   id                 839 non-null    object\n",
      " 1   name               839 non-null    object\n",
      " 2   primaryCategories  839 non-null    object\n",
      " 3   categories         839 non-null    object\n",
      " 4   dateAdded          839 non-null    object\n",
      " 5   dateUpdated        839 non-null    object\n",
      " 6   colors             27 non-null     object\n",
      " 7   imageURLs          839 non-null    object\n",
      " 8   sourceURLs         839 non-null    object\n",
      "dtypes: object(9)\n",
      "memory usage: 65.5+ KB\n"
     ]
    }
   ],
   "source": [
    "product_data.info()"
   ]
  },
  {
   "cell_type": "code",
   "execution_count": 13,
   "id": "everyday-factory",
   "metadata": {},
   "outputs": [],
   "source": [
    "product_data.to_csv(\"BDD/Final_csv/product_data.csv\", sep=',', encoding='utf-8', index=False)"
   ]
  },
  {
   "cell_type": "markdown",
   "id": "silent-month",
   "metadata": {},
   "source": [
    "## Table Logistics"
   ]
  },
  {
   "cell_type": "code",
   "execution_count": 14,
   "id": "parallel-video",
   "metadata": {},
   "outputs": [],
   "source": [
    "logistics = df3[['id', 'asins', 'ean', 'upc', 'keys', 'dimension', 'weight']]"
   ]
  },
  {
   "cell_type": "code",
   "execution_count": 15,
   "id": "dietary-cemetery",
   "metadata": {},
   "outputs": [
    {
     "data": {
      "text/plain": [
       "id               0\n",
       "asins            0\n",
       "ean          10054\n",
       "upc              0\n",
       "keys             0\n",
       "dimension     8458\n",
       "weight           0\n",
       "dtype: int64"
      ]
     },
     "execution_count": 15,
     "metadata": {},
     "output_type": "execute_result"
    }
   ],
   "source": [
    "logistics.isnull().sum()"
   ]
  },
  {
   "cell_type": "code",
   "execution_count": 16,
   "id": "supreme-laptop",
   "metadata": {},
   "outputs": [],
   "source": [
    "logistics = logistics.drop_duplicates()"
   ]
  },
  {
   "cell_type": "code",
   "execution_count": 17,
   "id": "varying-nebraska",
   "metadata": {},
   "outputs": [
    {
     "name": "stdout",
     "output_type": "stream",
     "text": [
      "<class 'pandas.core.frame.DataFrame'>\n",
      "Int64Index: 885 entries, 0 to 14537\n",
      "Data columns (total 7 columns):\n",
      " #   Column     Non-Null Count  Dtype \n",
      "---  ------     --------------  ----- \n",
      " 0   id         885 non-null    object\n",
      " 1   asins      885 non-null    object\n",
      " 2   ean        169 non-null    object\n",
      " 3   upc        885 non-null    object\n",
      " 4   keys       885 non-null    object\n",
      " 5   dimension  34 non-null     object\n",
      " 6   weight     885 non-null    object\n",
      "dtypes: object(7)\n",
      "memory usage: 55.3+ KB\n"
     ]
    }
   ],
   "source": [
    "logistics.info()"
   ]
  },
  {
   "cell_type": "code",
   "execution_count": 18,
   "id": "closing-petroleum",
   "metadata": {},
   "outputs": [],
   "source": [
    "logistics.to_csv(\"BDD/Final_csv/logistics.csv\", sep=',', encoding='utf-8', index=False)"
   ]
  },
  {
   "cell_type": "markdown",
   "id": "greater-jacob",
   "metadata": {},
   "source": [
    "# Table manufacturer"
   ]
  },
  {
   "cell_type": "code",
   "execution_count": 19,
   "id": "requested-imperial",
   "metadata": {},
   "outputs": [],
   "source": [
    "manufacturer = df3[['manufacturerNumber', 'id', 'manufacturer', 'brand']]"
   ]
  },
  {
   "cell_type": "code",
   "execution_count": 20,
   "id": "monetary-basis",
   "metadata": {},
   "outputs": [
    {
     "data": {
      "text/plain": [
       "manufacturerNumber       0\n",
       "id                       0\n",
       "manufacturer          6681\n",
       "brand                    0\n",
       "dtype: int64"
      ]
     },
     "execution_count": 20,
     "metadata": {},
     "output_type": "execute_result"
    }
   ],
   "source": [
    "manufacturer.isnull().sum()"
   ]
  },
  {
   "cell_type": "code",
   "execution_count": 21,
   "id": "extended-employer",
   "metadata": {},
   "outputs": [],
   "source": [
    "manufacturer = manufacturer.drop_duplicates()"
   ]
  },
  {
   "cell_type": "code",
   "execution_count": 22,
   "id": "limited-beverage",
   "metadata": {},
   "outputs": [
    {
     "name": "stdout",
     "output_type": "stream",
     "text": [
      "<class 'pandas.core.frame.DataFrame'>\n",
      "Int64Index: 849 entries, 0 to 14537\n",
      "Data columns (total 4 columns):\n",
      " #   Column              Non-Null Count  Dtype \n",
      "---  ------              --------------  ----- \n",
      " 0   manufacturerNumber  849 non-null    object\n",
      " 1   id                  849 non-null    object\n",
      " 2   manufacturer        366 non-null    object\n",
      " 3   brand               849 non-null    object\n",
      "dtypes: object(4)\n",
      "memory usage: 33.2+ KB\n"
     ]
    }
   ],
   "source": [
    "manufacturer.info()"
   ]
  },
  {
   "cell_type": "code",
   "execution_count": 23,
   "id": "hairy-montreal",
   "metadata": {},
   "outputs": [],
   "source": [
    "manufacturer.to_csv(\"BDD/Final_csv/manufacturer.csv\", sep=',', encoding='utf-8', index=False)"
   ]
  },
  {
   "cell_type": "markdown",
   "id": "allied-berry",
   "metadata": {},
   "source": [
    "# Table Reviews"
   ]
  },
  {
   "cell_type": "code",
   "execution_count": 24,
   "id": "ignored-advisory",
   "metadata": {},
   "outputs": [],
   "source": [
    "reviews = df3[['id', 'reviews_date', 'reviews_dateSeen', 'reviews_doRecommend', 'reviews_numHelpful', 'reviews_rating', 'reviews_sourceURLs', 'reviews_text', 'reviews_title', 'reviews_username']]"
   ]
  },
  {
   "cell_type": "code",
   "execution_count": 25,
   "id": "executed-suspension",
   "metadata": {},
   "outputs": [
    {
     "data": {
      "text/plain": [
       "id                        0\n",
       "reviews_date           7310\n",
       "reviews_dateSeen       7249\n",
       "reviews_doRecommend    8640\n",
       "reviews_numHelpful     8735\n",
       "reviews_rating         7413\n",
       "reviews_sourceURLs     7249\n",
       "reviews_text           7254\n",
       "reviews_title          7253\n",
       "reviews_username       7249\n",
       "dtype: int64"
      ]
     },
     "execution_count": 25,
     "metadata": {},
     "output_type": "execute_result"
    }
   ],
   "source": [
    "reviews.isnull().sum()"
   ]
  },
  {
   "cell_type": "code",
   "execution_count": 26,
   "id": "valuable-harrison",
   "metadata": {},
   "outputs": [],
   "source": [
    "reviews = reviews.drop_duplicates()"
   ]
  },
  {
   "cell_type": "code",
   "execution_count": 27,
   "id": "large-feedback",
   "metadata": {},
   "outputs": [
    {
     "name": "stdout",
     "output_type": "stream",
     "text": [
      "<class 'pandas.core.frame.DataFrame'>\n",
      "Int64Index: 8134 entries, 0 to 14537\n",
      "Data columns (total 10 columns):\n",
      " #   Column               Non-Null Count  Dtype  \n",
      "---  ------               --------------  -----  \n",
      " 0   id                   8134 non-null   object \n",
      " 1   reviews_date         7238 non-null   object \n",
      " 2   reviews_dateSeen     7299 non-null   object \n",
      " 3   reviews_doRecommend  5908 non-null   object \n",
      " 4   reviews_numHelpful   5813 non-null   float64\n",
      " 5   reviews_rating       7135 non-null   float64\n",
      " 6   reviews_sourceURLs   7299 non-null   object \n",
      " 7   reviews_text         7294 non-null   object \n",
      " 8   reviews_title        7295 non-null   object \n",
      " 9   reviews_username     7299 non-null   object \n",
      "dtypes: float64(2), object(8)\n",
      "memory usage: 699.0+ KB\n"
     ]
    }
   ],
   "source": [
    "reviews.info()"
   ]
  },
  {
   "cell_type": "code",
   "execution_count": 28,
   "id": "mighty-interpretation",
   "metadata": {},
   "outputs": [],
   "source": [
    "reviews.to_csv(\"BDD/Final_csv/reviews.csv\", sep=',', encoding='utf-8', index=False)"
   ]
  },
  {
   "cell_type": "markdown",
   "id": "premier-secret",
   "metadata": {},
   "source": [
    "# Table Prices"
   ]
  },
  {
   "cell_type": "code",
   "execution_count": 29,
   "id": "cosmetic-discrimination",
   "metadata": {},
   "outputs": [],
   "source": [
    "prices = df3[['id', 'prices_amountMax', 'prices_amountMin', 'prices_availability', 'prices_condition','prices_currency', 'prices_dateSeen', 'prices_isSale', 'prices_merchant', 'prices_shipping', 'prices_sourceURLs']]"
   ]
  },
  {
   "cell_type": "code",
   "execution_count": 30,
   "id": "several-wallet",
   "metadata": {},
   "outputs": [
    {
     "data": {
      "text/plain": [
       "id                         0\n",
       "prices_amountMax        7299\n",
       "prices_amountMin        7299\n",
       "prices_availability     7299\n",
       "prices_condition        7299\n",
       "prices_currency         7299\n",
       "prices_dateSeen         7299\n",
       "prices_isSale           7299\n",
       "prices_merchant         7299\n",
       "prices_shipping        10271\n",
       "prices_sourceURLs       7299\n",
       "dtype: int64"
      ]
     },
     "execution_count": 30,
     "metadata": {},
     "output_type": "execute_result"
    }
   ],
   "source": [
    "prices.isnull().sum()"
   ]
  },
  {
   "cell_type": "code",
   "execution_count": 31,
   "id": "south-forward",
   "metadata": {},
   "outputs": [],
   "source": [
    "prices = prices.drop_duplicates()"
   ]
  },
  {
   "cell_type": "code",
   "execution_count": 32,
   "id": "skilled-outdoors",
   "metadata": {},
   "outputs": [
    {
     "name": "stdout",
     "output_type": "stream",
     "text": [
      "<class 'pandas.core.frame.DataFrame'>\n",
      "Int64Index: 7299 entries, 0 to 14547\n",
      "Data columns (total 11 columns):\n",
      " #   Column               Non-Null Count  Dtype  \n",
      "---  ------               --------------  -----  \n",
      " 0   id                   7299 non-null   object \n",
      " 1   prices_amountMax     7249 non-null   float64\n",
      " 2   prices_amountMin     7249 non-null   float64\n",
      " 3   prices_availability  7249 non-null   object \n",
      " 4   prices_condition     7249 non-null   object \n",
      " 5   prices_currency      7249 non-null   object \n",
      " 6   prices_dateSeen      7249 non-null   object \n",
      " 7   prices_isSale        7249 non-null   object \n",
      " 8   prices_merchant      7249 non-null   object \n",
      " 9   prices_shipping      4277 non-null   object \n",
      " 10  prices_sourceURLs    7249 non-null   object \n",
      "dtypes: float64(2), object(9)\n",
      "memory usage: 684.3+ KB\n"
     ]
    }
   ],
   "source": [
    "prices.info()"
   ]
  },
  {
   "cell_type": "code",
   "execution_count": 33,
   "id": "prescription-juvenile",
   "metadata": {},
   "outputs": [],
   "source": [
    "prices.to_csv(\"BDD/Final_csv/prices.csv\", sep=',', encoding='utf-8', index=False)"
   ]
  },
  {
   "cell_type": "code",
   "execution_count": null,
   "id": "clean-insurance",
   "metadata": {},
   "outputs": [],
   "source": []
  }
 ],
 "metadata": {
  "kernelspec": {
   "display_name": "Python 3",
   "language": "python",
   "name": "python3"
  },
  "language_info": {
   "codemirror_mode": {
    "name": "ipython",
    "version": 3
   },
   "file_extension": ".py",
   "mimetype": "text/x-python",
   "name": "python",
   "nbconvert_exporter": "python",
   "pygments_lexer": "ipython3",
   "version": "3.8.6"
  }
 },
 "nbformat": 4,
 "nbformat_minor": 5
}
